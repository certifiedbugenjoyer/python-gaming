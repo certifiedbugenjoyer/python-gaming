{
 "cells": [
  {
   "cell_type": "code",
   "execution_count": null,
   "metadata": {},
   "outputs": [],
   "source": [
    "# the board i guess\n",
    "dct = {0:\" \",1:\" \",2:\" \",3:\" \",4:\" \",5:\" \",6:\" \",7:\" \",8:\" \"}\n",
    "\n",
    "def board(dct):\n",
    "    print(f\"{dct[0]}|{dct[1]}|{dct[2]}\")\n",
    "    print (\"-----\")\n",
    "    print(f\"{dct[3]}|{dct[4]}|{dct[5]}\")\n",
    "    print (\"-----\")\n",
    "    print(f\"{dct[6]}|{dct[7]}|{dct[8]}\") \n",
    "print(board(dct)) "
   ]
  },
  {
   "cell_type": "code",
   "execution_count": null,
   "metadata": {},
   "outputs": [],
   "source": [
    "#adds somthing to the board!!!!!!!\n",
    "if input() == \"X6\":\n",
    "    dct[6] = inputfunction()\n",
    "    board(dct)\n",
    "    for x in range (0,1,2,3,4,5,6,7,8): continue\n",
    "    dct[8] = \" \"\n",
    "    board\n",
    "else:\n",
    "    print('try an x or o')\n",
    "input(\"ur move\")\n",
    "# i was suppose to create a function like this for all of the spaces an call one for the coresponding board space"
   ]
  },
  {
   "cell_type": "code",
   "execution_count": 1,
   "metadata": {},
   "outputs": [
    {
     "ename": "NameError",
     "evalue": "name 'dct' is not defined",
     "output_type": "error",
     "traceback": [
      "\u001b[1;31m---------------------------------------------------------------------------\u001b[0m",
      "\u001b[1;31mNameError\u001b[0m                                 Traceback (most recent call last)",
      "Cell \u001b[1;32mIn [1], line 2\u001b[0m\n\u001b[0;32m      1\u001b[0m \u001b[39m#willows code (idk what it does)\u001b[39;00m\n\u001b[1;32m----> 2\u001b[0m dct\n\u001b[0;32m      3\u001b[0m \u001b[39mif\u001b[39;00m dct[\u001b[39m1\u001b[39m] \u001b[39m==\u001b[39m \u001b[39m\"\u001b[39m\u001b[39mx\u001b[39m\u001b[39m\"\u001b[39m:\n\u001b[0;32m      4\u001b[0m    \u001b[39mprint\u001b[39m(\u001b[39m\"\u001b[39m\u001b[39mtrue\u001b[39m\u001b[39m\"\u001b[39m)\n",
      "\u001b[1;31mNameError\u001b[0m: name 'dct' is not defined"
     ]
    }
   ],
   "source": [
    " #willows code (idk what it does)\n",
    "dct\n",
    "if dct[1] == \"x\":\n",
    "    print(\"true\")\n",
    "else:\n",
    "    print(\"false\")\n",
    "\n",
    "    dct[1] = \"x\""
   ]
  },
  {
   "cell_type": "markdown",
   "metadata": {},
   "source": []
  },
  {
   "cell_type": "code",
   "execution_count": null,
   "metadata": {},
   "outputs": [],
   "source": [
    "# makes the marker and rejects wrong answers. \n",
    "xoro = ['0','1','2','3','4','5','6','7','8']\n",
    "raw = input()\n",
    "if raw in xoro:\n",
    "     bool1 = True\n",
    "else:\n",
    "        bool1 = False \n",
    "        \n",
    "if bool1 == False:\n",
    "        print('try an \"X\" or an \"O\"') \n",
    " \n",
    "if bool1 == True:\n",
    "        print('nice move')\n",
    "\n",
    "return bool1\n",
    "return raw    "
   ]
  }
 ],
 "metadata": {
  "kernelspec": {
   "display_name": "Python 3.10.8 64-bit (microsoft store)",
   "language": "python",
   "name": "python3"
  },
  "language_info": {
   "codemirror_mode": {
    "name": "ipython",
    "version": 3
   },
   "file_extension": ".py",
   "mimetype": "text/x-python",
   "name": "python",
   "nbconvert_exporter": "python",
   "pygments_lexer": "ipython3",
   "version": "3.10.8"
  },
  "orig_nbformat": 4,
  "vscode": {
   "interpreter": {
    "hash": "3b7e9cb8e453d6cda0fe8c8dd13f891a1f09162f0e7c66ffeae7751a7aecf00d"
   }
  }
 },
 "nbformat": 4,
 "nbformat_minor": 2
}
