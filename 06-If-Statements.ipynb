{
 "cells": [
  {
   "cell_type": "markdown",
   "metadata": {},
   "source": [
    "# 06 - If Statments"
   ]
  },
  {
   "cell_type": "markdown",
   "metadata": {},
   "source": [
    "## Lesson Objectives:\n",
    "1. Intro to Python Statements\n",
    "2. if, elif, else"
   ]
  },
  {
   "cell_type": "markdown",
   "metadata": {},
   "source": [
    "## 1. Intro to Python Statements\n",
    "> Python Statements are how we tell the computer to \"do something\"\n",
    ">\n",
    "> \"if\" something, do something\n",
    ">\n",
    ">\"for\" some time, do something\n",
    ">\n",
    ">\"while\" some condition is met, do something"
   ]
  },
  {
   "cell_type": "markdown",
   "metadata": {},
   "source": [
    "## Indentation\n",
    "> Python has specific indentation and whitespace requirements.\n",
    ">\n",
    "> Each identation is equal to a 'tab-space'\n",
    ">\n",
    "```python\n",
    "if x: \n",
    "    if y:\n",
    "        statement to execute\n",
    "else:\n",
    "    different statement to execute\n",
    "```"
   ]
  },
  {
   "cell_type": "markdown",
   "metadata": {},
   "source": [
    "2. if, elif, else\n",
    "```python\n",
    "if condition1:\n",
    "    execute1\n",
    "elif condition2:\n",
    "    execute2\n",
    "else:\n",
    "    execute3\n",
    "```"
   ]
  },
  {
   "cell_type": "markdown",
   "metadata": {},
   "source": [
    "## Examples"
   ]
  },
  {
   "cell_type": "code",
   "execution_count": 4,
   "metadata": {},
   "outputs": [
    {
     "name": "stdout",
     "output_type": "stream",
     "text": [
      "True that\n"
     ]
    }
   ],
   "source": [
    "if True:\n",
    "    print(\"True that\")"
   ]
  },
  {
   "cell_type": "code",
   "execution_count": 3,
   "metadata": {},
   "outputs": [
    {
     "name": "stdout",
     "output_type": "stream",
     "text": [
      "x is False\n"
     ]
    }
   ],
   "source": [
    "# With some logic\n",
    "x = False\n",
    "\n",
    "if x:\n",
    "    print('x is True')\n",
    "else:\n",
    "    print(\"x is False\")"
   ]
  },
  {
   "cell_type": "code",
   "execution_count": 2,
   "metadata": {},
   "outputs": [
    {
     "name": "stdout",
     "output_type": "stream",
     "text": [
      "It smells like dirty kids!\n"
     ]
    }
   ],
   "source": [
    "loc = \"School\"\n",
    "\n",
    "if loc == \"Gas Station\":\n",
    "    print(\"It smells like gas!\")\n",
    "elif loc == \"School\":\n",
    "    print(\"It smells like dirty kids!\")\n",
    "else:\n",
    "    print(\"Yo, it smells bad!\")"
   ]
  },
  {
   "cell_type": "code",
   "execution_count": 5,
   "metadata": {},
   "outputs": [
    {
     "name": "stdout",
     "output_type": "stream",
     "text": [
      "I don't know my own name. Can I have yours please?\n"
     ]
    }
   ],
   "source": [
    "name = \"Eric\"\n",
    "\n",
    "if name == \"Airwreck\":\n",
    "    print(\"My name is DJ Airwreck!\")\n",
    "elif name == \"Ariq\":\n",
    "    print(\"My name is Ariq!\")\n",
    "else:\n",
    "    print(\"I don't know my own name. Can I have yours please?\")"
   ]
  },
  {
   "cell_type": "code",
   "execution_count": 18,
   "metadata": {},
   "outputs": [
    {
     "name": "stdout",
     "output_type": "stream",
     "text": [
      "my number is 10\n"
     ]
    }
   ],
   "source": [
    "var = 10\n",
    "if var == 100:\n",
    "    print(\"my number is {}\".format(var))\n",
    "elif var == 1:\n",
    "    print(\"my number is 1\")\n",
    "elif var == 2:\n",
    "    print(\"my number is 2\")\n",
    "\n",
    "else:\n",
    "        print(\"my number is {}\".format(var))"
   ]
  },
  {
   "cell_type": "code",
   "execution_count": 20,
   "metadata": {},
   "outputs": [
    {
     "name": "stdout",
     "output_type": "stream",
     "text": [
      "this list is just right\n"
     ]
    }
   ],
   "source": [
    "lst = [1, 2, 3]\n",
    "\n",
    "if len(lst) == 3:\n",
    "    print(\"this list is just right\")\n",
    "elif length == 4:\n",
    "    print(\"this list is too long\")\n",
    "else:\n",
    "    print(\"idk how ling this list is\")"
   ]
  },
  {
   "cell_type": "code",
   "execution_count": null,
   "metadata": {},
   "outputs": [],
   "source": []
  }
 ],
 "metadata": {
  "kernelspec": {
   "display_name": "Python 3.9.12 ('base')",
   "language": "python",
   "name": "python3"
  },
  "language_info": {
   "codemirror_mode": {
    "name": "ipython",
    "version": 3
   },
   "file_extension": ".py",
   "mimetype": "text/x-python",
   "name": "python",
   "nbconvert_exporter": "python",
   "pygments_lexer": "ipython3",
   "version": "3.9.12"
  },
  "orig_nbformat": 4,
  "vscode": {
   "interpreter": {
    "hash": "f08154012ddadd8e950e6e9e035c7a7b32c136e7647e9b7c77e02eb723a8bedb"
   }
  }
 },
 "nbformat": 4,
 "nbformat_minor": 2
}
