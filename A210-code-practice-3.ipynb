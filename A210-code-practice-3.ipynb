{
 "cells": [
  {
   "cell_type": "markdown",
   "metadata": {},
   "source": [
    "# A2.10 - Code Practice III\n",
    ">\n",
    "> If Statements\n",
    ">"
   ]
  },
  {
   "cell_type": "code",
   "execution_count": null,
   "metadata": {},
   "outputs": [],
   "source": [
    "# Create an if statement with at least:\n",
    "# 1. declare a variable\n",
    "# 2. if statement\n",
    "# 3. elif statement\n",
    "# 4. else statement"
   ]
  },
  {
   "cell_type": "code",
   "execution_count": null,
   "metadata": {},
   "outputs": [],
   "source": [
    "# Practice Below and Create at Least 4 if statments"
   ]
  },
  {
   "cell_type": "code",
   "execution_count": 6,
   "metadata": {},
   "outputs": [
    {
     "name": "stdout",
     "output_type": "stream",
     "text": [
      "horses' skulls' are too much teeth\n"
     ]
    }
   ],
   "source": [
    "crabvar = \"horse\"\n",
    "\n",
    "if crabvar == \"crab\":\n",
    "    print(\"evolve to crab\")\n",
    "elif crabvar == \"shrimp\":\n",
    "    print(\"shrimps are cool too\")\n",
    "elif crabvar == \"horse\":\n",
    "    print(\"horses' skulls are too much teeth\")\n",
    "else:\n",
    "    print(\"idk what to put here\")\n"
   ]
  },
  {
   "cell_type": "code",
   "execution_count": 7,
   "metadata": {},
   "outputs": [
    {
     "name": "stdout",
     "output_type": "stream",
     "text": [
      "just a random number\n"
     ]
    }
   ],
   "source": [
    "a_number = 332\n",
    "\n",
    "if a_number == 25:\n",
    "    print(\"funnier then 24\")\n",
    "elif a_number == 332:\n",
    "    print(\"just a random number\")\n",
    "elif a_number == 69:\n",
    "    print(\"hehe\")\n",
    "else:\n",
    "    print(\"numberless\")\n"
   ]
  },
  {
   "cell_type": "code",
   "execution_count": 2,
   "metadata": {},
   "outputs": [
    {
     "name": "stdout",
     "output_type": "stream",
     "text": [
      "real isopod hours\n"
     ]
    }
   ],
   "source": [
    "animal = \"has 12 legs\"\n",
    "\n",
    "if animal == \"has 8 legs\":\n",
    "    print(\"probably an arachnid\")\n",
    "elif animal == \"has 12 legs\":\n",
    "    print(\"real isopod hours\")\n",
    "elif animal == \"has -1 legs\":\n",
    "    print(\"from another dimension\")\n",
    "elif animal == \"has 0 legs\":\n",
    "    print(\"snake, worm, snail, etc.\")\n",
    "else:\n",
    "    print(\"just tell me how many legs it has\")\n"
   ]
  },
  {
   "cell_type": "code",
   "execution_count": 3,
   "metadata": {},
   "outputs": [
    {
     "name": "stdout",
     "output_type": "stream",
     "text": [
      "this if statment is the 3rd one\n"
     ]
    }
   ],
   "source": [
    "varVar = animal\n",
    "\n",
    "if varVar == animal:\n",
    "    print(\"this if statment is the 3rd one\")\n",
    "elif varVar == a_number:\n",
    "    print(\"this if statment is the 2nd one\")\n",
    "elif varVar == crabvar:\n",
    "    print(\"this if statment is the first one\")\n",
    "else:\n",
    "    print(\"make a new if statment\")\n"
   ]
  }
 ],
 "metadata": {
  "kernelspec": {
   "display_name": "Python 3.9.12 ('base')",
   "language": "python",
   "name": "python3"
  },
  "language_info": {
   "codemirror_mode": {
    "name": "ipython",
    "version": 3
   },
   "file_extension": ".py",
   "mimetype": "text/x-python",
   "name": "python",
   "nbconvert_exporter": "python",
   "pygments_lexer": "ipython3",
   "version": "3.9.12"
  },
  "orig_nbformat": 4,
  "vscode": {
   "interpreter": {
    "hash": "f08154012ddadd8e950e6e9e035c7a7b32c136e7647e9b7c77e02eb723a8bedb"
   }
  }
 },
 "nbformat": 4,
 "nbformat_minor": 2
}
