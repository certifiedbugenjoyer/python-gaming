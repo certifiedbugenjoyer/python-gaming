{
 "cells": [
  {
   "cell_type": "markdown",
   "metadata": {},
   "source": [
    "# 08 - While Loops\n",
    "> From W3Schools:\n",
    ">\n",
    "> \"With the `while` loop we can execute a set of statements as long as a condition is true.\""
   ]
  },
  {
   "cell_type": "markdown",
   "metadata": {},
   "source": [
    "### Video and Notes:\n",
    "> Video: https://www.youtube.com/watch?v=dHANJ4l6fwA\n",
    ">\n",
    "> Notes: https://www.w3schools.com/python/python_while_loops.asp"
   ]
  },
  {
   "cell_type": "markdown",
   "metadata": {},
   "source": [
    "## To Complete Your Notes:\n",
    "1. Watch the video.\n",
    "2. Review the Notes above.\n",
    "3. Copy the `while` loops from W3Schools below\n",
    "4. Create your own `while` loops below"
   ]
  },
  {
   "cell_type": "markdown",
   "metadata": {},
   "source": [
    "### 3. Copy the `while` loops from W3Schools below"
   ]
  },
  {
   "cell_type": "code",
   "execution_count": 6,
   "metadata": {},
   "outputs": [
    {
     "name": "stdout",
     "output_type": "stream",
     "text": [
      "In this loop, yo\n",
      "Out of the loop, again\n"
     ]
    }
   ],
   "source": [
    "# Example 1\n",
    "\n",
    "somebool = True\n",
    "\n",
    "while somebool:\n",
    "    print(\"In this loop, yo\")\n",
    "    somebool = False\n",
    "print(\"Out of the loop, again\")"
   ]
  },
  {
   "cell_type": "code",
   "execution_count": 5,
   "metadata": {},
   "outputs": [
    {
     "name": "stdout",
     "output_type": "stream",
     "text": [
      "1\n",
      "2\n",
      "3\n",
      "4\n",
      "5\n",
      "6\n",
      "7\n",
      "8\n"
     ]
    }
   ],
   "source": [
    "# The `while` loop\n",
    "anumber = 1\n",
    "while anumber < 9:\n",
    "  print(anumber)\n",
    "  anumber += 1"
   ]
  },
  {
   "cell_type": "code",
   "execution_count": 17,
   "metadata": {},
   "outputs": [
    {
     "name": "stdout",
     "output_type": "stream",
     "text": [
      "24\n",
      "25\n",
      "26\n"
     ]
    }
   ],
   "source": [
    "# The `break` statement\n",
    "anewnumber = 24\n",
    "while anewnumber < 29:\n",
    "  print(anewnumber)\n",
    "  if anewnumber == 26:\n",
    "    break\n",
    "  anewnumber += 1"
   ]
  },
  {
   "cell_type": "code",
   "execution_count": 24,
   "metadata": {},
   "outputs": [
    {
     "name": "stdout",
     "output_type": "stream",
     "text": [
      "5\n",
      "7\n",
      "8\n",
      "9\n",
      "10\n",
      "11\n",
      "12\n",
      "13\n",
      "14\n",
      "15\n",
      "16\n",
      "17\n",
      "18\n",
      "19\n",
      "20\n"
     ]
    }
   ],
   "source": [
    "# The `continue` statement\n",
    "anothernumber = 4\n",
    "while anothernumber < 20:\n",
    "  anothernumber += 1\n",
    "  if anothernumber == 6:\n",
    "    continue\n",
    "  print(anothernumber)"
   ]
  },
  {
   "cell_type": "code",
   "execution_count": 25,
   "metadata": {},
   "outputs": [
    {
     "name": "stdout",
     "output_type": "stream",
     "text": [
      "5\n",
      "6\n",
      "7\n",
      "8\n",
      "9\n",
      "10\n",
      "11\n",
      "12\n",
      "13\n",
      "14\n",
      "15\n",
      "16\n",
      "17\n",
      "18\n",
      "19\n",
      "20\n",
      "21\n",
      "22\n",
      "the numbers have stopped!\n"
     ]
    }
   ],
   "source": [
    "# The `else` statement\n",
    "evenmorenumbers = 5\n",
    "while evenmorenumbers < 23:\n",
    "  print(evenmorenumbers)\n",
    "  evenmorenumbers += 1\n",
    "else:\n",
    "  print(\"the numbers have stopped!\")"
   ]
  },
  {
   "cell_type": "code",
   "execution_count": null,
   "metadata": {},
   "outputs": [],
   "source": []
  },
  {
   "cell_type": "markdown",
   "metadata": {},
   "source": [
    "### 4. Create your own `while` loops below.\n",
    "> Please create your own `while` loops.\n",
    ">\n",
    "> Please create at least three different `while` loops.\n",
    ">\n",
    "> Try and use different techniques from this lesson and the lessons before."
   ]
  },
  {
   "cell_type": "code",
   "execution_count": 50,
   "metadata": {},
   "outputs": [
    {
     "name": "stdout",
     "output_type": "stream",
     "text": [
      "i onw multiple venomous reptiles\n",
      "my favorite animals are jellyfish\n",
      "this is the 3rd secret\n",
      "i spelled own wrong\n"
     ]
    }
   ],
   "source": [
    "# Example Loop\n",
    "count = 0\n",
    "mybool = True\n",
    "secrets = {}\n",
    "\n",
    "while mybool:\n",
    "    secrets[count] = input(\"Tell me a secret: \")\n",
    "    count += 1\n",
    "    if count > 3:\n",
    "        mybool = False\n",
    "\n",
    "for key in secrets:\n",
    "    print(secrets[key])"
   ]
  },
  {
   "cell_type": "code",
   "execution_count": 37,
   "metadata": {},
   "outputs": [
    {
     "name": "stdout",
     "output_type": "stream",
     "text": [
      "['wasp', 'wasp', 'wasp']\n",
      "['wasp', 'wasp', 'wasp']\n",
      "['wasp', 'wasp', 'wasp']\n",
      "['wasp', 'wasp', 'wasp']\n",
      "['wasp', 'wasp', 'wasp']\n",
      "['wasp', 'wasp', 'wasp']\n",
      "['wasp', 'wasp', 'wasp']\n",
      "['wasp', 'wasp', 'wasp']\n",
      "['wasp', 'wasp', 'wasp']\n",
      "['wasp', 'wasp', 'wasp']\n",
      "['wasp', 'wasp', 'wasp']\n",
      "['wasp', 'wasp', 'wasp']\n",
      "['wasp', 'wasp', 'wasp']\n",
      "['wasp', 'wasp', 'wasp']\n",
      "['wasp', 'wasp', 'wasp']\n",
      "['wasp', 'wasp', 'wasp']\n",
      "['wasp', 'wasp', 'wasp']\n",
      "['wasp', 'wasp', 'wasp']\n",
      "['wasp', 'wasp', 'wasp']\n",
      "['wasp', 'wasp', 'wasp']\n",
      "pain\n"
     ]
    }
   ],
   "source": [
    "# First Loop\n",
    "swarm = [\"wasp\", \"wasp\", \"wasp\"]\n",
    "bugBool = True\n",
    "count = 0\n",
    "\n",
    "while bugBool:\n",
    "    print(swarm)\n",
    "    count += 1\n",
    "    if count > 19:\n",
    "        bugBool = False\n",
    "else:\n",
    "    print(\"pain\")\n"
   ]
  },
  {
   "cell_type": "code",
   "execution_count": 4,
   "metadata": {},
   "outputs": [
    {
     "name": "stdout",
     "output_type": "stream",
     "text": [
      "10\n",
      "9\n",
      "8\n",
      "7\n",
      "6\n",
      "5\n",
      "4\n",
      "3\n",
      "2\n",
      "1\n",
      "liftoff!\n"
     ]
    }
   ],
   "source": [
    "# Second Loop\n",
    "countdown = 10\n",
    "spacebool = True\n",
    "while spacebool == True:\n",
    "     countdown < 11\n",
    "     print(countdown)\n",
    "     countdown -= 1\n",
    "     if countdown < 1:\n",
    "      spacebool = False\n",
    "else:\n",
    "  print(\"liftoff!\")"
   ]
  },
  {
   "cell_type": "code",
   "execution_count": 5,
   "metadata": {},
   "outputs": [
    {
     "name": "stdout",
     "output_type": "stream",
     "text": [
      "-5\n",
      "-4\n",
      "-3\n",
      "-2\n",
      "-1\n",
      "0\n",
      "1\n",
      "2\n",
      "3\n",
      "4\n"
     ]
    }
   ],
   "source": [
    "# Third Loop\n",
    "iranoutofideas = -5\n",
    "while iranoutofideas < 5:\n",
    "    print(iranoutofideas)\n",
    "    iranoutofideas += 1"
   ]
  },
  {
   "cell_type": "code",
   "execution_count": null,
   "metadata": {},
   "outputs": [],
   "source": [
    "\"\"\"For extra credit: try and create a `while` loop that uses the Random module\n",
    "to generate random numbers within a range of integers and breaks away when a certain\n",
    "integer is returned. Then print out the number of loops that occurred.\"\"\"\n",
    "\n",
    "import random\n"
   ]
  }
 ],
 "metadata": {
  "kernelspec": {
   "display_name": "Python 3.9.12 ('base')",
   "language": "python",
   "name": "python3"
  },
  "language_info": {
   "codemirror_mode": {
    "name": "ipython",
    "version": 3
   },
   "file_extension": ".py",
   "mimetype": "text/x-python",
   "name": "python",
   "nbconvert_exporter": "python",
   "pygments_lexer": "ipython3",
   "version": "3.9.12"
  },
  "orig_nbformat": 4,
  "vscode": {
   "interpreter": {
    "hash": "f08154012ddadd8e950e6e9e035c7a7b32c136e7647e9b7c77e02eb723a8bedb"
   }
  }
 },
 "nbformat": 4,
 "nbformat_minor": 2
}
