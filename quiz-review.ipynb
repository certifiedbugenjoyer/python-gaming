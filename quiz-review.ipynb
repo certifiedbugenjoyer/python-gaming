{
 "cells": [
  {
   "cell_type": "markdown",
   "metadata": {},
   "source": [
    "# Quiz Review\n",
    ">\n",
    ">Data Types, Numbers, Strings, Lists, Dictionaries, and Booleans\n",
    ">"
   ]
  },
  {
   "cell_type": "markdown",
   "metadata": {},
   "source": [
    "## Data Types\n",
    "> What function can you use to find the type of an object?"
   ]
  },
  {
   "cell_type": "code",
   "execution_count": null,
   "metadata": {},
   "outputs": [],
   "source": [
    "## Write code here"
   ]
  },
  {
   "cell_type": "markdown",
   "metadata": {},
   "source": [
    "## Numbers\n",
    "> Create the following:"
   ]
  },
  {
   "cell_type": "code",
   "execution_count": 9,
   "metadata": {},
   "outputs": [
    {
     "data": {
      "text/plain": [
       "0.8599999999999999"
      ]
     },
     "execution_count": 9,
     "metadata": {},
     "output_type": "execute_result"
    }
   ],
   "source": [
    "# Create a variable 'numVar' to hold an integer\n",
    "\n",
    "numVar = 4\n",
    "\n",
    "# Create a variable 'fltVar' to hold a float\n",
    "\n",
    "fltVar = 2.35\n",
    "\n",
    "# Change numVar to a float\n",
    "\n",
    "float(numVar)\n",
    "\n",
    "# Change fltVar to a integer\n",
    "\n",
    "int(fltVar)\n",
    "\n",
    "# Multiply numVar by 10\n",
    "\n",
    "numVar * 10\n",
    "\n",
    "# Return the remainer of numVar divided by 3.14\n",
    "\n",
    "numVar % 3.14"
   ]
  },
  {
   "cell_type": "markdown",
   "metadata": {},
   "source": [
    "## Strings\n",
    "> Create the following:"
   ]
  },
  {
   "cell_type": "code",
   "execution_count": 12,
   "metadata": {},
   "outputs": [
    {
     "data": {
      "text/plain": [
       "['don', 't even start']"
      ]
     },
     "execution_count": 12,
     "metadata": {},
     "output_type": "execute_result"
    }
   ],
   "source": [
    "# Create a variable 'strVar' to hold a string that contains an apostrophe and spaces\n",
    "\n",
    "strVar = \"don't even start\"\n",
    "\n",
    "# Split this variable on the spaces\n",
    "strVar.split()\n",
    "\n",
    "# Split this variable on the apostrophe\n",
    "strVar.split(\"'\")"
   ]
  },
  {
   "cell_type": "markdown",
   "metadata": {},
   "source": [
    "## Lists\n",
    "> Create the following:"
   ]
  },
  {
   "cell_type": "code",
   "execution_count": 25,
   "metadata": {},
   "outputs": [
    {
     "data": {
      "text/plain": [
       "[21, 2, 78]"
      ]
     },
     "execution_count": 25,
     "metadata": {},
     "output_type": "execute_result"
    }
   ],
   "source": [
    "# Create a variable 'lstVar' to hold an empty list\n",
    "\n",
    "lstVar = []\n",
    "\n",
    "# Append to this list three number type objects\n",
    "\n",
    "lstVar.append(78)\n",
    "lstVar.append(2)\n",
    "lstVar.append(21)\n",
    "lstVar\n",
    "revlstVar = lstVar[::-1]\n",
    "revlstVar\n",
    "# Create a variable revlstVar to hold lstVar in reverse\n",
    "\n"
   ]
  },
  {
   "cell_type": "markdown",
   "metadata": {},
   "source": [
    "## Dictionaries\n",
    "> Create the following:"
   ]
  },
  {
   "cell_type": "code",
   "execution_count": 27,
   "metadata": {},
   "outputs": [
    {
     "data": {
      "text/plain": [
       "\"DON'T EVEN START\""
      ]
     },
     "execution_count": 27,
     "metadata": {},
     "output_type": "execute_result"
    }
   ],
   "source": [
    "# Create a variable 'dctVar' to hold an empty dictionary\n",
    "\n",
    "dctVar = {}\n",
    "\n",
    "# Add each variable created above and set them each to their own keys\n",
    "\n",
    "dctVar = {\"numbers1\": numVar, \"numbers2\": fltVar, \"strings1\": strVar, \"lists1\": lstVar, \"lists2\": revlstVar}\n",
    "\n",
    "# Call the 'strVar' from inside the dictionary and call the Upper method on it\n",
    "dctVar[\"strings1\"].upper()"
   ]
  }
 ],
 "metadata": {
  "kernelspec": {
   "display_name": "Python 3.10.7 64-bit (microsoft store)",
   "language": "python",
   "name": "python3"
  },
  "language_info": {
   "codemirror_mode": {
    "name": "ipython",
    "version": 3
   },
   "file_extension": ".py",
   "mimetype": "text/x-python",
   "name": "python",
   "nbconvert_exporter": "python",
   "pygments_lexer": "ipython3",
   "version": "3.10.7"
  },
  "orig_nbformat": 4,
  "vscode": {
   "interpreter": {
    "hash": "3b7e9cb8e453d6cda0fe8c8dd13f891a1f09162f0e7c66ffeae7751a7aecf00d"
   }
  }
 },
 "nbformat": 4,
 "nbformat_minor": 2
}
