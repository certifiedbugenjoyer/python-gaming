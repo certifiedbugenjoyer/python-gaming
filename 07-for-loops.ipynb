{
 "cells": [
  {
   "cell_type": "markdown",
   "metadata": {},
   "source": [
    "# 07 - For Loops\n",
    "> From W3Schools:\n",
    ">\n",
    "> \"A `for` loop is used for iterating over a sequence (that is either a list, a tuple, a dictionary, a set, or a string).\n",
    ">\n",
    "> With the for loop we can execute a set of statements, once for each item in a list, tuple, set etc.\""
   ]
  },
  {
   "cell_type": "markdown",
   "metadata": {},
   "source": [
    "### Video and Notes:\n",
    "> Video: https://www.youtube.com/watch?v=dHANJ4l6fwA\n",
    ">\n",
    "> Notes: https://www.w3schools.com/python/python_for_loops.asp"
   ]
  },
  {
   "cell_type": "markdown",
   "metadata": {},
   "source": [
    "## To Complete Your Notes:\n",
    "1. Watch the video.\n",
    "2. Review the Notes above.\n",
    "3. Copy the `for` loops from W3Schools below\n",
    "4. Create your own `for` loops below"
   ]
  },
  {
   "cell_type": "markdown",
   "metadata": {},
   "source": [
    "### 3. Copy the `for` loops from W3Schools below"
   ]
  },
  {
   "cell_type": "markdown",
   "metadata": {},
   "source": []
  },
  {
   "cell_type": "code",
   "execution_count": 2,
   "metadata": {},
   "outputs": [
    {
     "name": "stdout",
     "output_type": "stream",
     "text": [
      "assassin\n",
      "plant\n",
      "leaf\n"
     ]
    }
   ],
   "source": [
    "# Loop through a list\n",
    "\n",
    "bugs = [\"assassin\", \"plant\", \"leaf\"]\n",
    "\n",
    "for x in bugs:\n",
    "    print(x)"
   ]
  },
  {
   "cell_type": "code",
   "execution_count": 4,
   "metadata": {},
   "outputs": [
    {
     "name": "stdout",
     "output_type": "stream",
     "text": [
      "v\n",
      "e\n",
      "r\n",
      "t\n",
      "i\n",
      "c\n",
      "a\n",
      "l\n"
     ]
    }
   ],
   "source": [
    "# Loop through a string\n",
    "\n",
    "for x in \"vertical\":\n",
    "    print(x)"
   ]
  },
  {
   "cell_type": "code",
   "execution_count": 7,
   "metadata": {},
   "outputs": [
    {
     "name": "stdout",
     "output_type": "stream",
     "text": [
      "assassin\n"
     ]
    }
   ],
   "source": [
    "# Use the break statement\n",
    "bugs = [\"assassin\", \"plant\", \"leaf\"]\n",
    "\n",
    "for x in bugs:\n",
    "    print(x)\n",
    "    if x == \"assassin\":\n",
    "        break"
   ]
  },
  {
   "cell_type": "code",
   "execution_count": 8,
   "metadata": {},
   "outputs": [
    {
     "name": "stdout",
     "output_type": "stream",
     "text": [
      "assassin\n",
      "assassin\n",
      "plant\n",
      "plant\n",
      "leaf\n"
     ]
    }
   ],
   "source": [
    "# Use the continue statement\n",
    "bugs = [\"assassin\", \"plant\", \"leaf\"]\n",
    "\n",
    "for x in bugs:\n",
    "    print(x)\n",
    "    if x == \"leaf\":\n",
    "        continue\n",
    "    print(x)"
   ]
  },
  {
   "cell_type": "code",
   "execution_count": 18,
   "metadata": {},
   "outputs": [
    {
     "name": "stdout",
     "output_type": "stream",
     "text": [
      "0\n",
      "1\n",
      "2\n",
      "3\n",
      "4\n",
      "5\n",
      "6\n",
      "7\n",
      "8\n",
      "9\n",
      "10\n",
      "11\n",
      "12\n",
      "13\n",
      "14\n",
      "12\n"
     ]
    }
   ],
   "source": [
    "# Use the range function to loop through\n",
    "for x in range(12):\n",
    "  print(x)\n",
    "\n",
    "for x in range(12,15):\n",
    "  print(x)\n",
    "\n",
    "for x in range(12,15,16):\n",
    "  print(x)"
   ]
  },
  {
   "cell_type": "code",
   "execution_count": 23,
   "metadata": {},
   "outputs": [
    {
     "name": "stdout",
     "output_type": "stream",
     "text": [
      "0\n",
      "1\n",
      "2\n",
      "3\n",
      "4\n",
      "5\n",
      "6\n",
      "7\n",
      "neat\n"
     ]
    }
   ],
   "source": [
    "# Use else at the end of a loop\n",
    "for x in range(8):\n",
    "  print(x)\n",
    "else:\n",
    "  print(\"neat\")"
   ]
  },
  {
   "cell_type": "code",
   "execution_count": 24,
   "metadata": {},
   "outputs": [
    {
     "name": "stdout",
     "output_type": "stream",
     "text": [
      "assassin butterfly\n",
      "assassin mantis\n",
      "assassin beetle\n",
      "plant butterfly\n",
      "plant mantis\n",
      "plant beetle\n",
      "leaf butterfly\n",
      "leaf mantis\n",
      "leaf beetle\n"
     ]
    }
   ],
   "source": [
    "# Loop through two lists using Nested Loops\n",
    "bugs = [\"assassin\", \"plant\", \"leaf\"]\n",
    "fake_bugs = [\"butterfly\", \"mantis\", \"beetle\"]\n",
    "\n",
    "for x in bugs: \n",
    "    for y in fake_bugs:\n",
    "        print(x,y)\n"
   ]
  },
  {
   "cell_type": "code",
   "execution_count": 26,
   "metadata": {},
   "outputs": [
    {
     "name": "stdout",
     "output_type": "stream",
     "text": [
      "49\n"
     ]
    }
   ],
   "source": [
    "# Use the pass statement\n",
    "for x in [47, 48, 49]:\n",
    "  pass\n",
    "print(x)"
   ]
  },
  {
   "cell_type": "markdown",
   "metadata": {},
   "source": [
    "### 4. Create your own `for` loops below.\n",
    "> Please create your own `for` loops.\n",
    ">\n",
    "> Please create at least three different loops.\n",
    ">\n",
    "> Try and use different techniques from this lesson and the lessons before."
   ]
  },
  {
   "cell_type": "code",
   "execution_count": 9,
   "metadata": {},
   "outputs": [
    {
     "name": "stdout",
     "output_type": "stream",
     "text": [
      "t\n",
      "h\n",
      "e\n",
      " \n",
      "b\n",
      "we have found the b!\n"
     ]
    }
   ],
   "source": [
    "# Example Loop\n",
    "eric = \"the best guide in the world\"\n",
    "\n",
    "erics_bool = False\n",
    "\n",
    "for x in eric:\n",
    "    if x == 'b':\n",
    "        erics_bool = True\n",
    "    print(x)\n",
    "    if erics_bool:\n",
    "        print(\"we have found the b!\")\n",
    "        break"
   ]
  },
  {
   "cell_type": "code",
   "execution_count": 32,
   "metadata": {},
   "outputs": [],
   "source": [
    "# First Loop\n",
    "\n",
    "toad = \"the best pet\"\n",
    "\n",
    "toadbool = False\n",
    "\n",
    "for x in toad:\n",
    "    if x == \"frog\":\n",
    "        print(x)\n",
    "    if toadbool:\n",
    "        print(\"toad\")"
   ]
  },
  {
   "cell_type": "code",
   "execution_count": 42,
   "metadata": {},
   "outputs": [
    {
     "name": "stdout",
     "output_type": "stream",
     "text": [
      "my favorite\n"
     ]
    }
   ],
   "source": [
    "# Second Loop\n",
    "sciences = [\"biology\", \"entomology\", \"chemistry\"]\n",
    "\n",
    "astrology = False\n",
    "\n",
    "for x in sciences:\n",
    "    if x == \"entomology\":\n",
    "        print(\"my favorite\")\n",
    "    if astrology:\n",
    "        print(\"bad\")"
   ]
  },
  {
   "cell_type": "code",
   "execution_count": 43,
   "metadata": {},
   "outputs": [
    {
     "name": "stdout",
     "output_type": "stream",
     "text": [
      "it worked!\n"
     ]
    }
   ],
   "source": [
    "# Third Loop\n",
    "\n",
    "numbers = [1,2,3]\n",
    "\n",
    "divideby0 = False\n",
    "\n",
    "for x in numbers:\n",
    "    if x == 3:\n",
    "        print(\"it worked!\")\n",
    "    if divideby0:\n",
    "        print(\"inposible\")\n"
   ]
  },
  {
   "cell_type": "code",
   "execution_count": 4,
   "metadata": {},
   "outputs": [],
   "source": [
    "\"\"\"For extra credit: try and create a for loop that takes the string below (A Yeah \n",
    "Yeah Yeahs lyric from Sweets) and alters it as much as possible in five lines or \n",
    "less of code. Long strings can be extended to the next line using \\ \"\"\"\n",
    "\n",
    "extra = \"Secret blue purple pink and green right over it. Hold on 'cause the \\\n",
    "coldest hasn't thawed yet\""
   ]
  }
 ],
 "metadata": {
  "kernelspec": {
   "display_name": "Python 3.9.12 ('base')",
   "language": "python",
   "name": "python3"
  },
  "language_info": {
   "codemirror_mode": {
    "name": "ipython",
    "version": 3
   },
   "file_extension": ".py",
   "mimetype": "text/x-python",
   "name": "python",
   "nbconvert_exporter": "python",
   "pygments_lexer": "ipython3",
   "version": "3.9.12"
  },
  "orig_nbformat": 4,
  "vscode": {
   "interpreter": {
    "hash": "f08154012ddadd8e950e6e9e035c7a7b32c136e7647e9b7c77e02eb723a8bedb"
   }
  }
 },
 "nbformat": 4,
 "nbformat_minor": 2
}
