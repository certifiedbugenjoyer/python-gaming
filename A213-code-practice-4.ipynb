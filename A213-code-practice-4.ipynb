{
 "cells": [
  {
   "cell_type": "markdown",
   "metadata": {},
   "source": [
    "# A2.13 - Code Practice IV\n",
    ">\n",
    "> Review: `if` Statements\n",
    ">\n",
    "> Review: `for` Loops\n",
    ">\n",
    "> Review: `while` Loops"
   ]
  },
  {
   "cell_type": "code",
   "execution_count": 4,
   "metadata": {},
   "outputs": [
    {
     "name": "stdout",
     "output_type": "stream",
     "text": [
      "even't\n"
     ]
    }
   ],
   "source": [
    "# Use `if` statement to find even and odd numbers\n",
    "\n",
    "numvar = 69\n",
    "if numvar % 2 == 0:\n",
    "    print(\"even\")\n",
    "else:\n",
    "    print(\"even't\")"
   ]
  },
  {
   "cell_type": "code",
   "execution_count": 3,
   "metadata": {},
   "outputs": [
    {
     "name": "stdout",
     "output_type": "stream",
     "text": [
      "the correct name is\n",
      "James\n"
     ]
    }
   ],
   "source": [
    "# Use `for` loop and `if` statement to find the correct name from a list of names\n",
    "\n",
    "Jnames = [\"Jared\", \"James\", \"Jermane\",\"Jen\",\"John\"]\n",
    "\n",
    "for x in Jnames:\n",
    "    if x == \"James\":\n",
    "        print(\"the correct name is\")\n",
    "        print(x)\n"
   ]
  },
  {
   "cell_type": "code",
   "execution_count": 8,
   "metadata": {},
   "outputs": [
    {
     "name": "stdout",
     "output_type": "stream",
     "text": [
      "Jared\n",
      "James\n",
      "namen't\n",
      "namen't\n",
      "namen't\n"
     ]
    }
   ],
   "source": [
    "# Use `for` loop and `if` statement to find the correct length of name from a \n",
    "# list of names\n",
    "\n",
    "for x in Jnames:\n",
    "    if len(x) == 5:\n",
    "        print(x)\n",
    "    else:\n",
    "        print(\"namen't\")"
   ]
  },
  {
   "cell_type": "code",
   "execution_count": 9,
   "metadata": {},
   "outputs": [
    {
     "name": "stdout",
     "output_type": "stream",
     "text": [
      "the same number that willow used\n",
      "the same number that willow used\n",
      "the same number that willow used\n",
      "the same number that willow used\n",
      "the same number that willow used\n",
      "the same number that willow used\n",
      "the same number that willow used\n",
      "the same number that willow used\n",
      "the same number that willow used\n",
      "the same number that willow used\n"
     ]
    }
   ],
   "source": [
    "# Use `for` loop to print a statement 10 times\n",
    "\n",
    "for x in range(10):\n",
    "    print(\"the same number that willow used\")"
   ]
  },
  {
   "cell_type": "code",
   "execution_count": 10,
   "metadata": {},
   "outputs": [
    {
     "name": "stdout",
     "output_type": "stream",
     "text": [
      "s1\n",
      "s2\n",
      "s3\n"
     ]
    }
   ],
   "source": [
    "# Use `for` loop to print the values of a dictionary\n",
    "# The dictionary should be at least 3 key-value pairs\n",
    "\n",
    "dct = {\"k1\": \"s1\", \"k2\": \"s2\",\"k3\": \"s3\"}\n",
    "\n",
    "for x in dct:\n",
    "    print(dct[x])"
   ]
  },
  {
   "cell_type": "code",
   "execution_count": 16,
   "metadata": {},
   "outputs": [
    {
     "name": "stdout",
     "output_type": "stream",
     "text": [
      "mantid\n",
      "weevil\n",
      "treehopper\n"
     ]
    }
   ],
   "source": [
    "# Use `while` loop that asks for user input three times and then prints it out\n",
    "\n",
    "rebmun = 0\n",
    "insectbool = True\n",
    "insectdct = {}\n",
    "\n",
    "while insectbool:\n",
    "    insectdct[rebmun] = input(\"What are your favorite insects?\")\n",
    "    rebmun += 1\n",
    "    if rebmun > 2:\n",
    "        insectbool = False\n",
    "\n",
    "for x in insectdct:\n",
    "    print(insectdct[x])"
   ]
  }
 ],
 "metadata": {
  "kernelspec": {
   "display_name": "Python 3.9.12 ('base')",
   "language": "python",
   "name": "python3"
  },
  "language_info": {
   "codemirror_mode": {
    "name": "ipython",
    "version": 3
   },
   "file_extension": ".py",
   "mimetype": "text/x-python",
   "name": "python",
   "nbconvert_exporter": "python",
   "pygments_lexer": "ipython3",
   "version": "3.9.12"
  },
  "orig_nbformat": 4,
  "vscode": {
   "interpreter": {
    "hash": "f08154012ddadd8e950e6e9e035c7a7b32c136e7647e9b7c77e02eb723a8bedb"
   }
  }
 },
 "nbformat": 4,
 "nbformat_minor": 2
}
